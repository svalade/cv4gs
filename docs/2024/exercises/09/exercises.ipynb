{
 "cells": [
  {
   "cell_type": "markdown",
   "id": "4f26dc3c",
   "metadata": {},
   "source": [
    "<font size=\"5\"><b>Lecture 09: Machine Learning 3 (exercises)</b></font>"
   ]
  },
  {
   "cell_type": "markdown",
   "id": "293ce49e",
   "metadata": {},
   "source": [
    "# EX: Semantic classification of satellite image"
   ]
  },
  {
   "cell_type": "markdown",
   "id": "ffa45a51",
   "metadata": {},
   "source": [
    "<div class=\"alert alert-info\">\n",
    "<b>This exercise has been developed by <u>Andreas Ley</u> and <u>Ronny Hänsch</u> (TU-Berlin) in the framework of the GEO.X 2017 Autumn school.<br>\n",
    "<br>\n",
    "The exercise is designed to implement the classification of a satellite image (Sentinel-2) into semantic labels defining land use: forest, fields, urban, water.<br>\n",
    "<br>\n",
    "The exercise is split into 2 parts: the first part implements a PCA analysis on the image crops in order to reduce dimensionality, and the second part uses the outputs of the PCA and implement a SVM to classify the pixels into different land use classes.\n",
    "</b>\n",
    "<br>\n",
    "<br>\n",
    "<img src=\"images/application_input.png\" width=\"400\"><br>\n",
    "</div>"
   ]
  },
  {
   "cell_type": "code",
   "execution_count": null,
   "id": "3cd830e8",
   "metadata": {},
   "outputs": [],
   "source": []
  },
  {
   "cell_type": "markdown",
   "id": "4be3257c",
   "metadata": {},
   "source": [
    "<div class=\"alert alert-info\">\n",
    "<b><u>Description of the dataset</u></b>:<br>\n",
    "<br>\n",
    "<b>Part 1</b>: In the first part of the exercise, you will use the file <u>s2_training_data.npz</u>. It contains image crops of a Sentinel-2 multispectral image, and some semantic labels of land use.<br>\n",
    "    <br>\n",
    "    The file can be loaded using <a href=\"https://numpy.org/doc/stable/reference/generated/numpy.load.html?highlight=load#numpy.load\" target=\"_blank\">numpy.load()</a>, and contains 2 parts:<br>\n",
    "    <ul>\n",
    "        <li><u>data</u>: contains 20,000 patches (crops), each of 15x15 pixels and 4 channels (R + G + B + shortwave-infrared). The data is organized as one numpy array of shape (20000, 4, 15, 15), where the first dimension are the instances, the next dimension are the channels, and the latter two are width and height.<br> The first 5000 crops contain forest in the central pixel, the next 5000 contain fields/lower vegetation, the next 5000 are urban areas, and the last 5000 are water.</li>\n",
    "        <li><u>labels</u>: contains semantic labels of land use (forest, fields, urban, water), which will be later used for training the classifier.</li>\n",
    "    </ul>   \n",
    "</div>"
   ]
  },
  {
   "cell_type": "markdown",
   "id": "437fbe4a",
   "metadata": {},
   "source": [
    "<div class=\"alert alert-info\">\n",
    "<b>Part 2</b>: In the second part of the exercise, in addition to the training data you will be using two other files:<br>\n",
    "    <ul>\n",
    "        <li><u>s2_testing_data.npz</u>: the file is structured like the training file \"s2_training_data.npz\", and will be used to evaluate our SVM classifier.</li>\n",
    "        <br>\n",
    "        <li><u>s2_application_data.npz</u>: the file only contains a \"data\" field, which stores a single Sentinel-2 image of 512x512 pixels, with 4 channels (R+G+B+SWIR). This image will be used to apply the trained SVM classifier in order to classify the pixels into the different land use classes (forest, fields, urban, water).</li>\n",
    "    </ul>   \n",
    "</div>"
   ]
  },
  {
   "cell_type": "markdown",
   "id": "5d1501cf",
   "metadata": {},
   "source": [
    "## PART 1 (PCA)"
   ]
  },
  {
   "cell_type": "markdown",
   "id": "11365973",
   "metadata": {},
   "source": [
    "### load data"
   ]
  },
  {
   "cell_type": "markdown",
   "id": "58768f3a",
   "metadata": {},
   "source": [
    "<div class=\"alert alert-success\">\n",
    "    Load the data using numpy.load(). Store the \"data\" in a variable named \"train_X\", anf the \"labels\" in a variable named \"train_Y\". Explore the shape of these arrays.\n",
    "</div>"
   ]
  },
  {
   "cell_type": "markdown",
   "id": "16d58d9b",
   "metadata": {},
   "source": [
    "### inspect image crops"
   ]
  },
  {
   "cell_type": "markdown",
   "id": "0cea9518",
   "metadata": {},
   "source": [
    "<div class=\"alert alert-success\">\n",
    "    Use the function below to look at the (RGB-part) of individual crops.<br>Take a look at the first crop of each class (remember: crops 1-5k contain forest, crops 5-10k contain fields, crops 10-15k are urban areas, and crops 15-20k are water).\n",
    "</div>"
   ]
  },
  {
   "cell_type": "code",
   "execution_count": 4,
   "id": "34651307",
   "metadata": {},
   "outputs": [],
   "source": [
    "def show_raw_image(img):\n",
    "    img2 = np.log(img[[2,1,0],:,:])\n",
    "\n",
    "    img2[0,:,:] = img2[0,:,:].copy() * 1.05303 + -6.32792\n",
    "    img2[1,:,:] = img2[1,:,:].copy() * 1.74001 + -10.8407\n",
    "    img2[2,:,:] = img2[2,:,:].copy() * 1.20697 + -6.73016\n",
    "\n",
    "    img2 = np.clip(img2 / 6 + 0.5, 0.0, 1.0)\n",
    "\n",
    "    plt.imshow(np.transpose(img2, (1, 2, 0)))\n",
    "    plt.show()"
   ]
  },
  {
   "cell_type": "code",
   "execution_count": 5,
   "id": "8c7b96cb",
   "metadata": {},
   "outputs": [
    {
     "data": {
      "image/png": "[encoded data removed]",
      "text/plain": [
       "<Figure size 432x288 with 1 Axes>"
      ]
     },
     "metadata": {
      "needs_background": "light"
     },
     "output_type": "display_data"
    },
    {
     "data": {
      "image/png": "[encoded data removed]",
      "text/plain": [
       "<Figure size 432x288 with 1 Axes>"
      ]
     },
     "metadata": {
      "needs_background": "light"
     },
     "output_type": "display_data"
    },
    {
     "data": {
      "image/png": "[encoded data removed]",
      "text/plain": [
       "<Figure size 432x288 with 1 Axes>"
      ]
     },
     "metadata": {
      "needs_background": "light"
     },
     "output_type": "display_data"
    },
    {
     "data": {
      "image/png": "[encoded data removed]",
      "text/plain": [
       "<Figure size 432x288 with 1 Axes>"
      ]
     },
     "metadata": {
      "needs_background": "light"
     },
     "output_type": "display_data"
    }
   ],
   "source": [
    "for i in range(0,4):\n",
    "    show_raw_image(train_X[5000*i])"
   ]
  },
  {
   "cell_type": "markdown",
   "id": "3fe7bbc2",
   "metadata": {},
   "source": [
    "### compress image crops"
   ]
  },
  {
   "cell_type": "markdown",
   "id": "6b5ecb1c",
   "metadata": {},
   "source": [
    "<div class=\"alert alert-success\">\n",
    "    The data train_X contains the raw values which span a large range. To compress them into a more “gaussian” shape, compute the logarithm of them.\n",
    "</div>"
   ]
  },
  {
   "cell_type": "markdown",
   "id": "2e300814",
   "metadata": {},
   "source": [
    "### build function to compute principal components of image crops\n",
    "The following tasks will implement a function \"compute_mean_PCs(X)\" which takes image crops as inputs, and returns the mean image, Eigen images (principal components reshaped into images), and Eigen values."
   ]
  },
  {
   "cell_type": "markdown",
   "id": "24f855a9",
   "metadata": {},
   "source": [
    "#### compute mean crop, and mean-free crops"
   ]
  },
  {
   "cell_type": "markdown",
   "id": "aba7264f",
   "metadata": {},
   "source": [
    "<div class=\"alert alert-success\">\n",
    "    Compute the mean image crop, and name the resulting array \"mean\".<br>\n",
    "    Subtract this \"mean\" from all crops, and name the resulting array \"mean_free\".<br>\n",
    "    <br>\n",
    "    Hint: The mean image should be an array of shape (4, 15, 15), and the mean free crops should be an array of shape (20000, 4, 15, 15)).\n",
    "</div>"
   ]
  },
  {
   "cell_type": "markdown",
   "id": "6c976079",
   "metadata": {},
   "source": [
    "#### vectorize the mean-free crops"
   ]
  },
  {
   "cell_type": "markdown",
   "id": "779b4846",
   "metadata": {},
   "source": [
    "<div class=\"alert alert-success\">\n",
    "    Flatten the crops into vectors so that you get a numpy array of shape (20000, 4 * 15 * 15).<br>\n",
    "    <br>\n",
    "    Hint: use \"np.reshape\".\n",
    "</div>"
   ]
  },
  {
   "cell_type": "markdown",
   "id": "33d785bc",
   "metadata": {},
   "source": [
    "#### compute the covariance matrix"
   ]
  },
  {
   "cell_type": "markdown",
   "id": "59df1944",
   "metadata": {},
   "source": [
    "<div class=\"alert alert-success\">\n",
    "    Compute the covariance matrix. This should be a matrix of size 900x900 (900 = 4 * 15 * 15).<br>\n",
    "    <br>\n",
    "    Start by defining a matrix of zeros with shape (900,900). Loop over all 20000 crops, and for each crop compute the outer product <a href=\"https://numpy.org/doc/stable/reference/generated/numpy.outer.html?highlight=outer#numpy.outer\" target=\"_blank\">np.outer(u, v)</a> of the mean-free vector with itself (i.e., u = v = vectorized crop). Accumulate (sum) the outer products together and finally divide by the total number of used crops. (To speed up development, consider using only every 10th crop).<br>\n",
    "    <br>\n",
    "    NB: the <a href=\"https://en.wikipedia.org/wiki/Outer_product\" target=\"_blank\">outer product</a> $u \\otimes v$ is equivalent to a matrix multiplication $u \\cdot v^T$\n",
    "</div>"
   ]
  },
  {
   "cell_type": "markdown",
   "id": "83ffc370",
   "metadata": {},
   "source": [
    "#### compute Eigen values & Eigen vectors of the covariance matrix"
   ]
  },
  {
   "cell_type": "markdown",
   "id": "07014a41",
   "metadata": {},
   "source": [
    "<div class=\"alert alert-success\">\n",
    "    Compute the Eigen values \"eig_val\" and Eigen vectors \"eig_vec\" of the covariance matrix using <a href=\"https://numpy.org/doc/stable/reference/generated/numpy.linalg.eig.html?highlight=eig#numpy.linalg.eig\" target=\"_blank\">np.linalg.eig()</a>.<br>\n",
    "    <br>\n",
    "    Sort them by importance (decreasing Eigen values) using the following code:<br>\n",
    "</div>"
   ]
  },
  {
   "cell_type": "markdown",
   "id": "c6897a99",
   "metadata": {},
   "source": [
    "#### reshape Eigen vectors into Eigen images"
   ]
  },
  {
   "cell_type": "markdown",
   "id": "35724666",
   "metadata": {},
   "source": [
    "<div class=\"alert alert-success\">\n",
    "    Reshape the 900 eigen vectors back into the images, i.e. with shape (900, 4, 15, 15), and name this variable \"principal_components\".<br>\n",
    "    <br>\n",
    "    Note that the matrix eig_vec contains the Eigen vectors in its rows (not columns as you might expect), so you'll need to transpose the matrix before reshaping it.\n",
    "</div>"
   ]
  },
  {
   "cell_type": "markdown",
   "id": "1b435396",
   "metadata": {},
   "source": [
    "#### merge into function \"compute_mean_PCs\""
   ]
  },
  {
   "cell_type": "markdown",
   "id": "fe4d5266",
   "metadata": {},
   "source": [
    "<div class=\"alert alert-success\">\n",
    "    Merge steps 1.4.1 to 1.4.4 into a single function \"compute_mean_PCs\".<br>\n",
    "    <br>\n",
    "    The function will take the image crops as inputs (i.e., variable \"train_X\"), and will return the mean image (i.e., variable \"mean\"), the Eigen images (principal components reshaped into images, i.e., variable \"principal_components\"), and Eigen values (i.e., variable \"eig_val\").\n",
    "</div>"
   ]
  },
  {
   "cell_type": "markdown",
   "id": "ac9e2bf2",
   "metadata": {},
   "source": [
    "### run \"compute_mean_PCs\" and plot Eigen values"
   ]
  },
  {
   "cell_type": "markdown",
   "id": "df1f5e61",
   "metadata": {},
   "source": [
    "<div class=\"alert alert-success\">\n",
    "    Run \"compute_mean_PCs\" on the satellite data, and plot the returned Eigen values.<br>\n",
    "    <br>\n",
    "    Look at the first 64 principal components (or the RGB part thereof) using the following function:\n",
    "</div>"
   ]
  },
  {
   "cell_type": "code",
   "execution_count": 22,
   "id": "34479fa6",
   "metadata": {},
   "outputs": [],
   "source": [
    "def show_first_principal_components(pcs):\n",
    "\n",
    "    f, axarr = plt.subplots(8,8)\n",
    "    for i in range(0,8):\n",
    "        for j in range(0,8):\n",
    "            img2 = pcs[i*8+j, [2,1,0], :, :]\n",
    "            img2 = np.clip(img2 * 10 + 0.5, 0.0, 1.0)\n",
    "            axarr[i,j].imshow(np.transpose(img2, (1, 2, 0)))\n",
    "\n",
    "    plt.show()"
   ]
  },
  {
   "cell_type": "markdown",
   "id": "87e8eae6",
   "metadata": {},
   "source": [
    "### compute features"
   ]
  },
  {
   "cell_type": "markdown",
   "id": "ad982f90",
   "metadata": {},
   "source": [
    "<div class=\"alert alert-success\">\n",
    "    Write a function \"compute_features(X, mean, principal_components, count)\" that takes crops \"X\", subtracts the mean, and projects them onto the first \"count\" principal components.<br>\n",
    "    <br>\n",
    "    The returned array should have a shape (X.shape[0], count), containing the coefficients (which we will use as features in next week's exercise).<br>\n",
    "    <br>\n",
    "    Hint: the projection is done using the dot product.\n",
    "</div>"
   ]
  },
  {
   "cell_type": "markdown",
   "id": "507a557f",
   "metadata": {},
   "source": [
    "### reconstruct image"
   ]
  },
  {
   "cell_type": "markdown",
   "id": "34e2bcb4",
   "metadata": {},
   "source": [
    "<div class=\"alert alert-success\">\n",
    "    Write a function \"reconstruct_image(feature, mean, principal_components)\" that restores a crop given a feature/coefficient vector.<br>\n",
    "    <br>\n",
    "    Use the following code to compare, side by side, original image crops and reconstructions:\n",
    "</div>"
   ]
  },
  {
   "cell_type": "markdown",
   "id": "f772b856",
   "metadata": {},
   "source": [
    "```python\n",
    "# Code to compare, side by side, original image crops and reconstructions: \n",
    "for i in range(0,4):    \n",
    "    img = np.concatenate((train_X[5000*i+0,:,:,:], reconstruct_image(train_features[5000*i+0,:], mean, principal_components)), 2);\n",
    "    img = np.concatenate((img,np.concatenate((train_X[5000*i+1,:,:,:], reconstruct_image(train_features[5000*i+1,:], mean, principal_components)), 2)), 1);\n",
    "    img = np.concatenate((img,np.concatenate((train_X[5000*i+2,:,:,:], reconstruct_image(train_features[5000*i+2,:], mean, principal_components)), 2)), 1);\n",
    "    img = np.concatenate((img,np.concatenate((train_X[5000*i+3,:,:,:], reconstruct_image(train_features[5000*i+3,:], mean, principal_components)), 2)), 1);\n",
    "    img = np.concatenate((img,np.concatenate((train_X[5000*i+4,:,:,:], reconstruct_image(train_features[5000*i+4,:], mean, principal_components)), 2)), 1);\n",
    "    show_raw_image(np.exp(img))\n",
    "```"
   ]
  },
  {
   "cell_type": "markdown",
   "id": "1af4bf05",
   "metadata": {},
   "source": [
    "## PART 2 (SVM classification)"
   ]
  },
  {
   "cell_type": "markdown",
   "id": "1540874c",
   "metadata": {},
   "source": [
    "### (optional) define functions developed in part 1"
   ]
  },
  {
   "cell_type": "markdown",
   "id": "9edfc932",
   "metadata": {},
   "source": [
    "<div class=\"alert alert-success\">\n",
    "    The datasets contain 5k crops per class. Each crop is 15x15 pixels in size with 4 channels per pixel. The label of the central pixel is given in a separate array. Since the input dimensionality of each crop is quite high (4x15x15 = 900), we want to compress it using PCA.<br>\n",
    "    The following function have been developped in the 1st part of the exercice.\n",
    "</div>"
   ]
  },
  {
   "cell_type": "markdown",
   "id": "0f07f28b",
   "metadata": {},
   "source": [
    "### run PCA on training_data"
   ]
  },
  {
   "cell_type": "markdown",
   "id": "23deb622",
   "metadata": {},
   "source": [
    "<div class=\"alert alert-success\">\n",
    "    Use the functions implemented for the PCA exercise to compute the mean and principal components on the training data (s2_training_data.npz).<br>\n",
    "    Compute a 16-dimensional feature vector for each training sample by using the \"compute_features\" function.\n",
    "</div>"
   ]
  },
  {
   "cell_type": "markdown",
   "id": "e1915902",
   "metadata": {},
   "source": [
    "### train a SVM on PCA features"
   ]
  },
  {
   "cell_type": "markdown",
   "id": "d3fa7895",
   "metadata": {},
   "source": [
    "<div class=\"alert alert-success\">\n",
    "    Train a support vector machine on the computed features and the corresponding labels. Use <a href=\"https://scikit-learn.org/stable/modules/generated/sklearn.svm.SVC.html\" target=\"_blank\">sklearn.svm.SVC()</a>.<br>\n",
    "    <br>\n",
    "    Use default kernel (RBF), and set the following parameters: gamma=0.001, C=100.\n",
    "</div>"
   ]
  },
  {
   "cell_type": "code",
   "execution_count": 41,
   "id": "270675e9",
   "metadata": {},
   "outputs": [],
   "source": [
    "# Options:\n",
    "#\n",
    "# kernel : {'linear', 'poly', 'rbf', 'sigmoid', 'precomputed'}, default='rbf'\n",
    "#\n",
    "# C : float, default=1.0\n",
    "#     Regularization parameter. The strength of the regularization is\n",
    "#     inversely proportional to C. Must be strictly positive. The penalty\n",
    "#     is a squared l2 penalty.\n",
    "#\n",
    "# gamma : {'scale', 'auto'} or float, default='scale'\n",
    "#     Kernel coefficient for 'rbf', 'poly' and 'sigmoid'.\n",
    "#     - if ``gamma='scale'`` (default) is passed then it uses\n",
    "#       1 / (n_features * X.var()) as value of gamma,\n",
    "#     - if 'auto', uses 1 / n_features."
   ]
  },
  {
   "cell_type": "markdown",
   "id": "aa34039e",
   "metadata": {},
   "source": [
    "### compute the training accuracy of the classifier"
   ]
  },
  {
   "cell_type": "markdown",
   "id": "c5f462d2",
   "metadata": {},
   "source": [
    "<div class=\"alert alert-success\">\n",
    "    Compute the accuracy on the training dataset using the function testAccuracy() defined above.\n",
    "</div>"
   ]
  },
  {
   "cell_type": "markdown",
   "id": "3eb63d67",
   "metadata": {},
   "source": [
    "### load test dataset and evaluate classifier"
   ]
  },
  {
   "cell_type": "markdown",
   "id": "3451b503",
   "metadata": {},
   "source": [
    "<div class=\"alert alert-success\">\n",
    "    1. Load the test dataset from the file \"s2_testing_data.npz\".<br>\n",
    "    2. Compute features for it as well (remember to compute the logarithm of the data first) and evaluate the classifier on the test dataset by testing it's accuracy.<br>\n",
    "    3. Optional: try out the training accuracy for 16, 32, and 256 principal components. What is the test accuracy for those? How long does training/inference take (roughly)?\n",
    "</div>"
   ]
  },
  {
   "cell_type": "markdown",
   "id": "51f52097",
   "metadata": {},
   "source": [
    "### classify pixels in application dataset"
   ]
  },
  {
   "cell_type": "markdown",
   "id": "1004d454",
   "metadata": {},
   "source": [
    "<div class=\"alert alert-success\">\n",
    "    1. Load the image <u>s2_application_data.npz</u> and plot using show_raw_image().<br>\n",
    "    Have a look at it: can you spot the forest, urban, field, and water regions?<br>\n",
    "    <br>\n",
    "    2. Compute features on the training dataset with 64 components, and train SVM classifier with these features.<br>\n",
    "    <br>\n",
    "    3. Classify the image pixels into the four semantic classes (Forest, Field, Urban, Water):<br>\n",
    "    <br>\n",
    "    Use a \"sliding window\" approach where you crop a window of 15x15 pixels from the source image, that you will use to infer the label of the central pixel. To do so, compute the crop features, and use these to \"predict\" the pixel class with your SVM classifier. Store the predicted pixel value in an array \"application_labels\" (shape = (application_X.shape[1]-15, application_X.shape[2]-15)). Then shift the crop by one pixel and repeat these steps in order to classify the next pixel. Continue sliding the crop across the entire image in order to classify the entire image.<br>\n",
    "<u>Note</u>: compute_features expects an array of crops instead of a single crop which means that you need to turn your crop into an array containing just one crop.<br>\n",
    "    <br>\n",
    "    4. Render the final label map with: plt.imshow(application_labels).<br>\n",
    "    Is the classifier able to correctly label the different regions (forest, urban, field, water) you spotted in the image?<br>\n",
    "    <!-- How could you improve it? -->\n",
    "</div>"
   ]
  }
 ],
 "metadata": {
  "kernelspec": {
   "display_name": "base",
   "language": "python",
   "name": "python3"
  },
  "language_info": {
   "codemirror_mode": {
    "name": "ipython",
    "version": 3
   },
   "file_extension": ".py",
   "mimetype": "text/x-python",
   "name": "python",
   "nbconvert_exporter": "python",
   "pygments_lexer": "ipython3",
   "version": "3.9.12"
  },
  "toc": {
   "base_numbering": 1,
   "nav_menu": {},
   "number_sections": true,
   "sideBar": true,
   "skip_h1_title": false,
   "title_cell": "Table of Contents",
   "title_sidebar": "Contents",
   "toc_cell": false,
   "toc_position": {
    "height": "calc(100% - 180px)",
    "left": "10px",
    "top": "150px",
    "width": "282.883px"
   },
   "toc_section_display": true,
   "toc_window_display": true
  }
 },
 "nbformat": 4,
 "nbformat_minor": 5
}
