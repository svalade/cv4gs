{
 "cells": [
  {
   "cell_type": "markdown",
   "metadata": {},
   "source": [
    "<font size=\"5\"><b>Lecture 08: Machine Learning - classification part 1 (exercises)</b></font>"
   ]
  },
  {
   "cell_type": "markdown",
   "metadata": {},
   "source": [
    "# EX: use logistic regression for binary classification\n",
    "\n",
    "In this exercise, we will use logistic regression to classify a sentinel-2 image into two classes: vegetation and non-vegetation. "
   ]
  },
  {
   "cell_type": "markdown",
   "metadata": {},
   "source": [
    "<div class=\"alert alert-success\">\n",
    "    <b>Load the data</b><br>\n",
    "    <br>\n",
    "    <b>1.</b> Load the file \"pitonfournaise_B8B4B3B2.npy\" using <a href=\"https://numpy.org/doc/stable/reference/generated/numpy.load.html?highlight=load#numpy.load\" target=\"_blank\">numpy.load()</a>.<br>\n",
    "    <br>\n",
    "    This file stores a Sentinel-2 satellite image of the Piton de la Fournaise volcano, with 4 bands: B8 (= nir), B4 (= red), B3 (= green), B2 (= blue).<br>\n",
    "    <br>\n",
    "    <b>2.</b> Open each band using the following syntax: bands['B8'].\n",
    "    <br>\n",
    "    <br>\n",
    "    <img src=\"images/pitonfournaise_20180716T063511_B4B3B2+B12B11B8A_thumb.png\" width=\"400\"><br>\n",
    "</div>"
   ]
  },
  {
   "cell_type": "markdown",
   "metadata": {},
   "source": [
    "<div class=\"alert alert-success\">\n",
    "    <b>Compute the NDVI image and plot.</b><br>\n",
    "    <br>\n",
    "    The NDVI (Normalized Difference Vegetation Index) can be computed from the NIR and Red bands:<br>\n",
    "    <br>\n",
    "    $\n",
    "    \\text{NDVI} = \\frac{\\text{NIR} - \\text{Red}}{\\text{NIR} + \\text{Red}}\n",
    "    $\n",
    "</div>"
   ]
  },
  {
   "cell_type": "markdown",
   "metadata": {},
   "source": [
    "<div class=\"alert alert-success\">\n",
    "    <b>Use the NDVI image to get the target variable \"y\" (a.k.a. label, or ground truth). It will be used in the logistic regression.</b><br>\n",
    "    <br>\n",
    "    <b>1</b>. Binarize the NDVI image using a threshold (e.g. ndvi > 0.35) to segment image in what could be vegetation vs. non vegetation pixels. Values should be integers 0 | 1.<br>\n",
    "    <br> \n",
    "    <b>2</b>. Ravel the resulting image to return a new variable \"y\" as a 2D vector.\n",
    "</div>"
   ]
  },
  {
   "cell_type": "markdown",
   "metadata": {},
   "source": [
    "<div class=\"alert alert-success\">\n",
    "    <b>Create the matrix \"X\" storing the predictors (i.e. features). It should consist of 2 bands of your choice, stacked as 2 vertical vectors.</b><br>\n",
    "    <br>\n",
    "    <u>Hint</u>: use the function <a href=\"https://numpy.org/doc/stable/reference/generated/numpy.stack.html\" target=\"_blank\">np.stack</a> with axis=1 to stack the band vectors.\n",
    "</div>"
   ]
  },
  {
   "cell_type": "markdown",
   "metadata": {},
   "source": [
    "<div class=\"alert alert-success\">\n",
    "    <b>Take a random number of samples from (X, y).</b><br>\n",
    "    <br>\n",
    "    To make this exercise more realistic, we'll only use a percentage of the (X, y) pairs. Take a random selection of 0.5% of the total image<br>\n",
    "    <br>\n",
    "    <u>Hint</u>: use the function <a href=\"https://numpy.org/doc/stable/reference/random/generated/numpy.random.choice.html\" target=\"_blank\">np.random.choice</a> to get random indices.\n",
    "</div>"
   ]
  },
  {
   "cell_type": "markdown",
   "metadata": {},
   "source": [
    "<div class=\"alert alert-success\">\n",
    "    <b>Split the data in training and test sets.</b><br>\n",
    "    <br>\n",
    "    Split the (X, y) pairs in training (70%) and test (30%) sets.<br>\n",
    "    <br>\n",
    "    <u>Hint</u>: use the function <a href=\"https://scikit-learn.org/stable/modules/generated/sklearn.model_selection.train_test_split.html\" target=\"_blank\">sklearn.model_selection.train_test_split</a> to split.\n",
    "</div>"
   ]
  },
  {
   "cell_type": "markdown",
   "metadata": {},
   "source": [
    "<div class=\"alert alert-success\">\n",
    "    <b>Train the logistic regression model on X_train and y_train.</b><br>\n",
    "    <br>\n",
    "    <u>Hint</u>: use the function <a href=\"https://scikit-learn.org/stable/modules/generated/sklearn.linear_model.LogisticRegression.html\" target=\"_blank\">sklearn.linear_model.LogisticRegression</a> to create the model instance, than use the method <a href=\"https://scikit-learn.org/stable/modules/generated/sklearn.linear_model.LogisticRegression.html#sklearn.linear_model.LogisticRegression.fit\" target=\"_blank\">.fit()</a> to train it.\n",
    "</div>"
   ]
  },
  {
   "cell_type": "markdown",
   "metadata": {},
   "source": [
    "<div class=\"alert alert-success\">\n",
    "    <b>Predict the model on the test data, and evaluate the model's accuracy.</b><br>\n",
    "    <br>\n",
    "    <u>Hint</u>: use the method <a href=\"https://scikit-learn.org/stable/modules/generated/sklearn.linear_model.LogisticRegression.html#sklearn.linear_model.LogisticRegression.predict\" target=\"_blank\">.predict()</a> on the model instance to calculate the predicted values \"y_pred\".<br>\n",
    "    <br>\n",
    "    <u>Hint</u>: use the function <a href=\"https://scikit-learn.org/stable/modules/generated/sklearn.metrics.accuracy_score.html\" target=\"_blank\">sklearn.metrics.accuracy_score</a> to evaluate the accuracy by comparing y_test and y_pred.<br>\n",
    "</div>"
   ]
  },
  {
   "cell_type": "markdown",
   "metadata": {},
   "source": [
    "<div class=\"alert alert-success\">\n",
    "    <b>Predict the labels of data points in X, and reshape to display the predicted labels as an image.</b><br>\n",
    "    <br>\n",
    "    How close is it to your ground truth (binarized ndvi image)?<br>\n",
    "    <br>\n",
    "</div>"
   ]
  },
  {
   "cell_type": "markdown",
   "metadata": {},
   "source": [
    "<div class=\"alert alert-success\">\n",
    "    <b>Plot the your test and training sample points on top of the ndvi image.</b><br>\n",
    "    <br>\n",
    "    <u>Hint</u>: use <a href=\"https://numpy.org/doc/stable/reference/generated/numpy.unravel_index.html\" target=\"_blank\">np.unravel_index</a> to obtain the coordinates of the train and test indices obtained with sklearn.model_selection.train_test_split().<br>\n",
    "</div>"
   ]
  },
  {
   "cell_type": "markdown",
   "metadata": {},
   "source": [
    "# EX: use softmax regression (multinominal logistic) for multiclass classification\n",
    "\n",
    "In this exercise, we will use logistic regression to classify a sentinel-2 image into three classes: vegetation, soil, and water. "
   ]
  },
  {
   "cell_type": "markdown",
   "metadata": {},
   "source": [
    "<div class=\"alert alert-success\">\n",
    "    <b>Select training data points for 3 classes: vegetation, soil, and water. Train the softmax regression model on X_train and y_train.</b><br>\n",
    "    <br>\n",
    "    <u>Hint</u>: use the function <a href=\"https://scikit-learn.org/stable/modules/generated/sklearn.linear_model.LogisticRegression.html\" target=\"_blank\">sklearn.linear_model.LogisticRegression</a> with the option \"multi_class='multinomial'\" to create a model able to classify multiclasses.\n",
    "</div>"
   ]
  }
 ],
 "metadata": {
  "kernelspec": {
   "display_name": "base",
   "language": "python",
   "name": "python3"
  },
  "language_info": {
   "codemirror_mode": {
    "name": "ipython",
    "version": 3
   },
   "file_extension": ".py",
   "mimetype": "text/x-python",
   "name": "python",
   "nbconvert_exporter": "python",
   "pygments_lexer": "ipython3",
   "version": "3.9.12"
  }
 },
 "nbformat": 4,
 "nbformat_minor": 2
}
