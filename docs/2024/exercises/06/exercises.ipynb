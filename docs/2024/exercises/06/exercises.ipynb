{
 "cells": [
  {
   "cell_type": "markdown",
   "metadata": {},
   "source": [
    "<font size=\"5\"><b>Lecture 06: Features + Motion (exercises)</b></font>"
   ]
  },
  {
   "cell_type": "markdown",
   "metadata": {},
   "source": [
    "# EX: Find Harris and SIFT features in Berlin"
   ]
  },
  {
   "cell_type": "markdown",
   "metadata": {},
   "source": [
    "## find Harris corners"
   ]
  },
  {
   "cell_type": "markdown",
   "metadata": {},
   "source": [
    "<div class=\"alert alert-success\">\n",
    "    Open the image \"images/janno_00.jpg\" usking scikit-image.<br>\n",
    "    Use <a href=\"https://scikit-image.org/docs/0.12.x/api/skimage.feature.html\" target=\"_blank\">skimage.feature.corner_harris()</a> to find Harris corners, and <a href=\"https://scikit-image.org/docs/0.12.x/api/skimage.feature.html\" target=\"_blank\">skimage.feature.corner_peaks()</a> to select the best ones based on \"min_distance\" and \"threshold_rel\" criteria.<br>\n",
    "    Plot them.<br>\n",
    "    <br>\n",
    "    <u>Tip</u>: run corner_harris() on a grayscale image (you can use <a href=\"https://scikit-image.org/docs/0.12.x/api/skimage.color.html\" target=\"_blank\">skimage.color.rgb2gray()</a>).\n",
    "</div>"
   ]
  },
  {
   "cell_type": "markdown",
   "metadata": {},
   "source": [
    "## find SIFT features"
   ]
  },
  {
   "cell_type": "markdown",
   "metadata": {},
   "source": [
    "<div class=\"alert alert-success\">\n",
    "    Open the image \"images/janno_00.jpg\" using <a href=\"https://opencv-python-tutroals.readthedocs.io/en/latest/py_tutorials/py_gui/py_image_display/py_image_display.html\" target=\"_blank\">openCV</a> imread function.<br>\n",
    "    Use <a href=\"https://docs.opencv.org/master/da/df5/tutorial_py_sift_intro.html\" target=\"_blank\">openCV SIFT_create</a> to find SIFT features, and plot.<br>\n",
    "</div>"
   ]
  },
  {
   "cell_type": "markdown",
   "metadata": {},
   "source": [
    "# EX: Estimate motion from cross-correlation (DIC)"
   ]
  },
  {
   "cell_type": "markdown",
   "metadata": {},
   "source": [
    "## compute motion on a pair of image patches"
   ]
  },
  {
   "cell_type": "markdown",
   "metadata": {},
   "source": [
    "<div class=\"alert alert-success\">\n",
    "    1. Open the images \"images/frame_1735.png\" and \"images/frame_1745.png\" using scikit.image, and convert them to gray.<br>\n",
    "       Note: the imported image has 4 bands rgba, need to convert it to rgb than, to gray.<br>\n",
    "    2. Crop a 32x32 window in both images, wherever you like.<br>\n",
    "    3. Use <a href=\"https://docs.scipy.org/doc/scipy/reference/generated/scipy.signal.correlate2d.html\" target=\"_blank\">scipy.signal.correlate2d()</a> to obtain the 2D correlation between both windows, and plot.<br>\n",
    "       Note: remember to subtract mean from both images prior to calculating correlated2d<br>\n",
    "    4. Find the correlation peak, and recover the displacement vectors (u, v) from it. <u>Hint</u>: use the argmax() attribute on the recovered array, and <a href=\"https://numpy.org/doc/stable/reference/generated/numpy.unravel_index.html\" target=\"_blank\">numpy.unravel_index()</a> to find it's coordinates.<br>\n",
    "</div>"
   ]
  },
  {
   "cell_type": "markdown",
   "metadata": {},
   "source": [
    "## compute motion on entire image"
   ]
  },
  {
   "cell_type": "markdown",
   "metadata": {},
   "source": [
    "<div class=\"alert alert-success\">\n",
    "    Compute the motion on the entire image by scanning all rows and columns in patches, as done in the previous exercise.<br>\n",
    "    Plot the resulting image motion using <a href=\"https://matplotlib.org/stable/api/_as_gen/matplotlib.pyplot.quiver.html\" target=\"_blank\">matplotlib.pyplot.quiver()</a>. You can also compute the velocity from the displacement vectors (u, v), and use the resulting values to color the quiver arrows accordingly.\n",
    "</div>"
   ]
  },
  {
   "cell_type": "markdown",
   "metadata": {},
   "source": [
    "# EX: Estimate motion from optical flow"
   ]
  },
  {
   "cell_type": "markdown",
   "metadata": {},
   "source": [
    "## use sparse Lucas Kanade algorithm"
   ]
  },
  {
   "cell_type": "markdown",
   "metadata": {},
   "source": [
    "<div class=\"alert alert-success\">\n",
    "    Use OpenCV's Lucas Kanade optical flow implementation: <a href=\"https://docs.scipy.org/doc/scipy/reference/generated/scipy.signal.correlate2d.html\" target=\"_blank\">tutorial</a><br>\n",
    "    1. Open the images \"images/frame_1735.png\" and \"images/frame_1745.png\" using OpenCV. Convert from BGR to RGB, and from RGB to gray.<br>\n",
    "    2. Select \"good features to track\" using opencv's goodFeaturesToTrack() function.<br>\n",
    "    3. Use opencv's calcOpticalFlowPyrLK() to compute the flow between both images.<br>\n",
    "    4. Plot the resuling displacement vectors onto the RGB image using <a href=\"https://matplotlib.org/stable/api/_as_gen/matplotlib.pyplot.arrow.html\" target=\"_blank\">matplotlib.pyplot.arrow()</a>.<br>\n",
    "</div>"
   ]
  },
  {
   "cell_type": "markdown",
   "metadata": {},
   "source": [
    "## use dense Farneback algorithm"
   ]
  },
  {
   "cell_type": "markdown",
   "metadata": {},
   "source": [
    "<div class=\"alert alert-success\">\n",
    "    Use OpenCV's Farneback optical flow implementation: <a href=\"https://docs.scipy.org/doc/scipy/reference/generated/scipy.signal.correlate2d.html\" target=\"_blank\">tutorial</a><br>\n",
    "    1. Open the images \"images/frame_1735.png\" and \"images/frame_1745.png\" using OpenCV. Convert from BGR to RGB, and from RGB to gray.<br>\n",
    "    2. Use opencv's calcOpticalFlowFarneback() to compute the flow between both images.<br>\n",
    "    3. Extract the (u,v) displacement vectors from the output, subsample (e.g. extract 1 out of 10 values), and plot using <a href=\"https://matplotlib.org/stable/api/_as_gen/matplotlib.pyplot.quiver.html\" target=\"_blank\">matplotlib.pyplot.quiver()</a>. (Use <a href=\"https://numpy.org/doc/stable/reference/generated/numpy.meshgrid.html\" target=\"_blank\">numpy.meshgrid()</a> to create x and y arrays having the same size as your u v arrays you wish to plot).<br>\n",
    "</div>"
   ]
  }
 ],
 "metadata": {
  "kernelspec": {
   "display_name": "cv",
   "language": "python",
   "name": "python3"
  },
  "language_info": {
   "codemirror_mode": {
    "name": "ipython",
    "version": 3
   },
   "file_extension": ".py",
   "mimetype": "text/x-python",
   "name": "python",
   "nbconvert_exporter": "python",
   "pygments_lexer": "ipython3",
   "version": "3.11.4"
  },
  "toc": {
   "base_numbering": 1,
   "nav_menu": {},
   "number_sections": true,
   "sideBar": true,
   "skip_h1_title": false,
   "title_cell": "Table of Contents",
   "title_sidebar": "Contents",
   "toc_cell": false,
   "toc_position": {
    "height": "calc(100% - 180px)",
    "left": "10px",
    "top": "150px",
    "width": "204.883px"
   },
   "toc_section_display": true,
   "toc_window_display": true
  }
 },
 "nbformat": 4,
 "nbformat_minor": 4
}
