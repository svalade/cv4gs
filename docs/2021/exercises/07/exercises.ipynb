{
 "cells": [
  {
   "cell_type": "markdown",
   "id": "4f26dc3c",
   "metadata": {},
   "source": [
    "<font size=\"5\"><b>Lecture 07: Machine Learning introduction (exercises)</b></font>"
   ]
  },
  {
   "cell_type": "markdown",
   "id": "293ce49e",
   "metadata": {},
   "source": [
    "# EX: generate synthetic dataset"
   ]
  },
  {
   "cell_type": "markdown",
   "id": "9edfc932",
   "metadata": {},
   "source": [
    "<div class=\"alert alert-success\">\n",
    "    <b>1.</b> Explore how you can use the anonymous function <a href=\"https://www.w3schools.com/python/python_lambda.asp\" target=\"_blank\">lambda</a> to create an function taking the form f(x)=ax+b. (Variables a and b are fixed parameters of your choice, x is the input to the function, and f(x) the output).<br>\n",
    "    <br>\n",
    "    <b>2.</b> Define a range of X values using the function <a href=\"https://numpy.org/doc/stable/reference/generated/numpy.linspace.html\" target=\"_blank\">numpy.linspace()</a>, spanning between [1-21], with a total of 20 data points. Compute the Y values such as Y=f(x), where f is the function you have just defined, and plot the synthetic dataset (X,Y).<br>\n",
    "    <br>\n",
    "    <b>3.</b> Add Gaussian noise to the output of your function using the <a href=\"https://numpy.org/doc/stable/reference/random/generated/numpy.random.normal.html\" target=\"_blank\">numpy.random.normal()</a> function. Create a new target variable named T storing these noisy Y values. Plot.\n",
    "</div>"
   ]
  },
  {
   "cell_type": "markdown",
   "id": "129cc7b7",
   "metadata": {},
   "source": [
    "# EX: estimate a model based on the \"nearest neighboor\""
   ]
  },
  {
   "cell_type": "markdown",
   "id": "96d2ecbb",
   "metadata": {},
   "source": [
    "<div class=\"alert alert-success\">\n",
    "    Estimate a model $\\hat{f}$ such as $\\hat{f}(x) = T_{argmin(|X−x|)}$, where:<br>\n",
    "    <ul>\n",
    "        <li> $\\hat{f}(x)$ is the <i>estimated Y value</i> by your model at x. Call this variable \"Yest\".</li>\n",
    "        <li> $x$ is a range of x values where you want to estimate your model $\\hat{f}(x)$. Call this variable \"Xest\", and create is as 1000 samples linearly spaced between [1, 21].</li>\n",
    "        <li> $T$ is your noisy synthetic dataset at position $X$</li>\n",
    "        <li> $argmin$ returns the index of the minimum values in the vector $|X−x|$. Use <a href=\"https://numpy.org/doc/stable/reference/generated/numpy.argmin.html\" target=\"_blank\">numpy.argmin()</a>.</li>\n",
    "    </ul>\n",
    "    <br>\n",
    "    Loop over the values of Xest to estimate Yest at each step.<br>\n",
    "    Plot your estimated model $\\hat{f}$ (i.e., values Xest, Yest) on top of your noisy synthetic data set (i.e., values X, T). Plot the real model $f$ (i.e., values X, Y). Is your estimated model based on \"nearest neighboors\" satisfying?\n",
    "</div>"
   ]
  },
  {
   "cell_type": "markdown",
   "id": "1554b444",
   "metadata": {},
   "source": [
    "# EX: estimate a linear model"
   ]
  },
  {
   "cell_type": "markdown",
   "id": "2641ebd7",
   "metadata": {},
   "source": [
    "<div class=\"alert alert-success\">\n",
    "    Estimate a model $\\hat{f}$ such as $\\hat{f}(x) = \\hat{\\alpha}x + \\hat{\\beta}$, where:<br>\n",
    "    <ul>\n",
    "        <li> $\\hat{f}(x)$ is the <i>estimated Y value</i> by your model at x. Call this variable \"Yest\".</li>\n",
    "        <li> $\\hat{\\alpha}$ is the estimation of slope $\\alpha$</li>\n",
    "        <li> $\\hat{\\beta}$ is the estimation of $\\beta$</li>\n",
    "    </ul>\n",
    "    <br>\n",
    "    The analytical expression of $\\hat{a}$ and $\\hat{b}$ is obtained from the minimization of the least-square error function (which requires solving for equations $dE/d\\alpha=0$ and $dE/d\\beta=0$:<br>\n",
    "    <ul>\n",
    "        <li> $\\hat{\\alpha} = \\frac{\\sum\\limits_{i=1}^{n}{ (x_i-\\overline{x}) (y_i-\\overline{y}) }}{\\sum\\limits_{i=1}^{n}{ (x_i-\\overline{x})^2 }}$</li>\n",
    "        <li> $\\hat{\\beta} = \\overline{y} - \\alpha \\overline{x}$</li>\n",
    "    </ul>\n",
    "    where $\\overline{y} = \\frac{1}{n}\\sum\\limits_{i=1}^{n}{y}$ and $\\overline{x} = \\frac{1}{n}\\sum\\limits_{i=1}^{n}{x}$ are the mean x and y values.<br>\n",
    "    <br>\n",
    "    <u>Estimate $\\hat{\\alpha}$ and $\\hat{\\beta}$ using the above equations, take your noisy dataset (X, T) as variables (x, y). Then use the linear equation to estimate new values Yest at points Xest.</u><br>\n",
    "    <br>\n",
    "    Plot your estimated model $\\hat{f}$ (i.e., values Xest, Yest) on top of your noisy synthetic data set (i.e., values X, T), and add the real model $f$ (i.e., values X, Y) to compare. Is this estimated model better?\n",
    "</div>"
   ]
  },
  {
   "cell_type": "markdown",
   "id": "d1d35f2f",
   "metadata": {},
   "source": [
    "# EX: implement Linear Regression with sklearn"
   ]
  },
  {
   "cell_type": "markdown",
   "id": "e1857233",
   "metadata": {},
   "source": [
    "<div class=\"alert alert-success\">\n",
    "    We will be using the <a href=\"https://scikit-learn.org/stable/index.html\" target=\"_blank\">sklearn</a> throughout the Machine Learning part of the course. This exercise is meant to get you familiar with the library, by implementing a simple linear regression.<br>\n",
    "    <br>\n",
    "    Checkout the function <a href=\"https://scikit-learn.org/stable/modules/generated/sklearn.linear_model.LinearRegression.html\" target=\"_blank\">sklearn.linear_model.LinearRegression</a>, and try to implement it yourself.<br>\n",
    "    <br>\n",
    "    Plot and compare the linear regression you obtained manually in the previous exercise, with the linear regression obtained with the built-in sklearn function.\n",
    "</div>"
   ]
  },
  {
   "cell_type": "markdown",
   "id": "9ff74a35",
   "metadata": {},
   "source": [
    "# EX: implement polynomial fit with sklearn"
   ]
  },
  {
   "cell_type": "markdown",
   "id": "d20a778f",
   "metadata": {},
   "source": [
    "<div class=\"alert alert-success\">\n",
    "    You have learnt during classroom that you can implement a polynomial fit by applying successive linear fits in higher dimensions. Explore the use of a <a href=\"https://scikit-learn.org/stable/modules/generated/sklearn.pipeline.Pipeline.html\" target=\"_blank\">Pipeline</a> object, and use it to define the steps necessary to implement a Polynomial fit as a series of Linear Regressions.\n",
    "</div>"
   ]
  }
 ],
 "metadata": {
  "kernelspec": {
   "display_name": "Python 3",
   "language": "python",
   "name": "python3"
  },
  "language_info": {
   "codemirror_mode": {
    "name": "ipython",
    "version": 3
   },
   "file_extension": ".py",
   "mimetype": "text/x-python",
   "name": "python",
   "nbconvert_exporter": "python",
   "pygments_lexer": "ipython3",
   "version": "3.8.8"
  },
  "toc": {
   "base_numbering": 1,
   "nav_menu": {},
   "number_sections": true,
   "sideBar": true,
   "skip_h1_title": false,
   "title_cell": "Table of Contents",
   "title_sidebar": "Contents",
   "toc_cell": false,
   "toc_position": {},
   "toc_section_display": true,
   "toc_window_display": false
  }
 },
 "nbformat": 4,
 "nbformat_minor": 5
}
