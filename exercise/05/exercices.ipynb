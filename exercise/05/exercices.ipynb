{
 "cells": [
  {
   "cell_type": "markdown",
   "metadata": {},
   "source": [
    "<font size=\"5\"><b>Lecture 05: Homography (exercises)</b></font>"
   ]
  },
  {
   "cell_type": "markdown",
   "metadata": {},
   "source": [
    "# EX: rotate an image about its center"
   ]
  },
  {
   "cell_type": "markdown",
   "metadata": {},
   "source": [
    "## write transformation matrix"
   ]
  },
  {
   "cell_type": "markdown",
   "metadata": {},
   "source": [
    "<div class=\"alert alert-success\">\n",
    "Open the image 'images/Popocatepetl_HD_crop.jpg', and write the transformation matrix allowing the image to rotate about its center by 45 degrees counter-clockwise.<br>\n",
    "<br>\n",
    "<u>Tip 1</u>: The rotation should be composed of 3 successive operations: (1) image translation so that its center lies at the origin (0,0), (2) image rotation, and (3) image translation back to its original position.<br>\n",
    "<u>Tip 2</u>: Use the lecture slides to see how each matrix can be written, and how the operations can be concatenated.\n",
    "</div>"
   ]
  },
  {
   "cell_type": "markdown",
   "metadata": {},
   "source": [
    "## warp image with the transformation matrix"
   ]
  },
  {
   "cell_type": "markdown",
   "metadata": {},
   "source": [
    "<div class=\"alert alert-success\">\n",
    "    Use <a href=\"https://scikit-image.org/docs/dev/api/skimage.transform.html#skimage.transform.warp\" target=\"_blank\">skimage.transform.warp()</a> function to warp the image. Plot the transformed image.<br>"
   ]
  },
  {
   "cell_type": "markdown",
   "metadata": {},
   "source": [
    "## try scikit-image's built in rotation function"
   ]
  },
  {
   "cell_type": "markdown",
   "metadata": {},
   "source": [
    "<div class=\"alert alert-success\">\n",
    "    Use <a href=\"https://scikit-image.org/docs/dev/api/skimage.transform.html#skimage.transform.rotate\" target=\"_blank\">skimage.transform.rotate()</a> function to rotate the image. Did you get the same result?<br>\n",
    "</div>"
   ]
  },
  {
   "cell_type": "markdown",
   "metadata": {},
   "source": [
    "# EX: create a function to estimate a homography matrix"
   ]
  },
  {
   "cell_type": "markdown",
   "metadata": {},
   "source": [
    "<div class=\"alert alert-success\">\n",
    "    Follow the lecture slides to implement the Direct Linear Transformation (DLT) algorithm, that will be used to estimate the homography matrix from at least 4 point pairs.<br>\n",
    "    <br>\n",
    "    Your function will take as inputs the point pairs, stored in 2 distinct numpy arrays of shape (3xn), where n is the number of points. In other words, the vertical coordinate vector (x,y,w=1) of the points are stacked horizontally. The order of the points inside both arrays should be the same!<br>\n",
    "    <br>\n",
    "    The main steps are:<br>\n",
    "    <b>1.</b> Condition points<br> \n",
    "    <b>2.</b> Create the design matrix A<br> \n",
    "    <b>3.</b> Solve the linear homogeneous equation system Ah=0 with SVD<br> \n",
    "    <b>4.</b> Reshape the solution h in a 3x3 matrix (conditioned H).<br> \n",
    "    <b>5.</b> Decondition the matrix H.<br> \n",
    "</div>"
   ]
  },
  {
   "cell_type": "markdown",
   "metadata": {},
   "source": [
    "# EX: create a panorama"
   ]
  },
  {
   "cell_type": "markdown",
   "metadata": {},
   "source": [
    "## open images and select matching points"
   ]
  },
  {
   "cell_type": "markdown",
   "metadata": {},
   "source": [
    "<div class=\"alert alert-success\">\n",
    "    Open images 'images/IR_img01_1014.jpg' and 'images/IR_img02_1013.jpg', and select 4 matching points in each image.<br>\n",
    "    <br>\n",
    "    Keep points stored in two distinct numpy arrays of shape (3x4), i.e. where the vertical coordinate vector (x,y,w) of the points are stacked horizontally. Set w=1. The order of the points inside both arrays should be the same!"
   ]
  },
  {
   "cell_type": "markdown",
   "metadata": {},
   "source": [
    "## estimate homography"
   ]
  },
  {
   "cell_type": "markdown",
   "metadata": {},
   "source": [
    "<div class=\"alert alert-success\">\n",
    "    Use the function created in EX2 to estimate the homography matrix from the point pairs selected.<br>"
   ]
  },
  {
   "cell_type": "markdown",
   "metadata": {},
   "source": [
    "## warp using skimage"
   ]
  },
  {
   "cell_type": "markdown",
   "metadata": {},
   "source": [
    "<div class=\"alert alert-success\">\n",
    "    Warp the right-side image (IR_img02_1013.jpg) using the homography matrix found (use <a href=\"https://scikit-image.org/docs/dev/api/skimage.transform.html#skimage.transform.warp\" target=\"_blank\">skimage.transform.warp()</a>).<br>\n",
    "    <br>\n",
    "    <u>Tip 1</u>: for simplicity, set the \"output_shape\" to have the same height as the original image, but twice the width: (480, 640*2)<br>\n",
    "    <u>Tip 2</u>: for simplicity, get the resulting panorama image as the \"blend\" of the left-side (IR_img01_1014.jpg) and the warped right-side image. Pad the image left-side image to have the same size (=output_shape) as the warped image, and sum the two.<br>"
   ]
  },
  {
   "cell_type": "markdown",
   "metadata": {},
   "source": [
    "## compare result with homography estimated using skimage"
   ]
  },
  {
   "cell_type": "markdown",
   "metadata": {},
   "source": [
    "<div class=\"alert alert-success\">\n",
    "    Scikit-image has built-in functions to estimate the homography matrix from a set of matching points: <a href=\"https://scikit-image.org/docs/dev/api/skimage.transform.html#skimage.transform.estimate_transform()\" target=\"_blank\">skimage.transform.estimate_transform()</a>. Estimate the homography using this function, warp, and compare with your results obtained previously.<br>\n",
    "    <br>\n",
    "    <u>Tip</u>: the points to parse to the function only need the (x,y) coordinates. The point coordinate vectors can be stacked vertically, therefore resulting in a (n,2) array."
   ]
  }
 ],
 "metadata": {
  "kernelspec": {
   "display_name": "Python 3",
   "language": "python",
   "name": "python3"
  },
  "language_info": {
   "codemirror_mode": {
    "name": "ipython",
    "version": 3
   },
   "file_extension": ".py",
   "mimetype": "text/x-python",
   "name": "python",
   "nbconvert_exporter": "python",
   "pygments_lexer": "ipython3",
   "version": "3.8.5"
  },
  "toc": {
   "base_numbering": 1,
   "nav_menu": {},
   "number_sections": true,
   "sideBar": true,
   "skip_h1_title": false,
   "title_cell": "Table of Contents",
   "title_sidebar": "Contents",
   "toc_cell": false,
   "toc_position": {
    "height": "calc(100% - 180px)",
    "left": "10px",
    "top": "150px",
    "width": "282.883px"
   },
   "toc_section_display": true,
   "toc_window_display": true
  }
 },
 "nbformat": 4,
 "nbformat_minor": 4
}
